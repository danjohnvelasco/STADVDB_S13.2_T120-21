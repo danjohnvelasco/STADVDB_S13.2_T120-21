{
  "nbformat": 4,
  "nbformat_minor": 0,
  "metadata": {
    "colab": {
      "name": "DB_MCO2.ipynb",
      "provenance": [],
      "toc_visible": true,
      "mount_file_id": "1G4OLZueMqIN2gUpu7fFx5X48YY5av2Ju",
      "authorship_tag": "ABX9TyM4qOwouCOAFP689hICvmbT",
      "include_colab_link": true
    },
    "kernelspec": {
      "name": "python3",
      "display_name": "Python 3"
    }
  },
  "cells": [
    {
      "cell_type": "markdown",
      "metadata": {
        "id": "view-in-github",
        "colab_type": "text"
      },
      "source": [
        "<a href=\"https://colab.research.google.com/github/danjohnvelasco/STADVDB_S13.2_T120-21/blob/main_mco2/ETL.ipynb\" target=\"_parent\"><img src=\"https://colab.research.google.com/assets/colab-badge.svg\" alt=\"Open In Colab\"/></a>"
      ]
    },
    {
      "cell_type": "markdown",
      "metadata": {
        "id": "MTYvB4RXjHQs"
      },
      "source": [
        "# MCO2\r\n",
        "**Instructions to run:**\r\n",
        "\r\n",
        "Just run all the cells (ctrl + F9) and you'll be fine 😉\r\n",
        "\r\n",
        "**Dataset:** Brazilian E-Commerce Public Dataset by Olist [[Kaggle]](https://www.kaggle.com/olistbr/brazilian-ecommerce) [[download here](https://drive.google.com/file/d/1gUKUkb49cCVEM7YuqtMjNeVk_x8vUDBe/view?usp=sharing)]\r\n",
        "\r\n",
        "**Tables to be used from dataset (6 out of 9):**\r\n",
        "- Customers: customer, location\r\n",
        "- Order Items: items purchased **within** each order\r\n",
        "- Order: order info (purchase date, delivery date, status)\r\n",
        "- Products: products sold by Olist\r\n",
        "- Sellers: sellers that fulfilled orders made\r\n",
        "- Category Name: english translation of `productcategoryname`\r\n",
        "\r\n",
        "\r\n",
        "---\r\n",
        "\r\n",
        "\r\n",
        "\r\n",
        "#### Fact Table Schema:\r\n",
        "\r\n",
        "**Dimensions:**\r\n",
        "- order_approved_at\r\n",
        "- order_id\r\n",
        "- customer_id\r\n",
        "- seller_id\r\n",
        "- product_id\r\n",
        "\r\n",
        "**Measures:**\r\n",
        "- unit_sales (total items within each order)\r\n",
        "- sales_amount (total amount within each order)\r\n"
      ]
    },
    {
      "cell_type": "code",
      "metadata": {
        "id": "dFMagVyMmBz_"
      },
      "source": [
        "import pandas as pd"
      ],
      "execution_count": 1,
      "outputs": []
    },
    {
      "cell_type": "markdown",
      "metadata": {
        "id": "FajY01qKjw3O"
      },
      "source": [
        "## Extract\r\n",
        "\r\n",
        "Loading data to tool"
      ]
    },
    {
      "cell_type": "code",
      "metadata": {
        "colab": {
          "base_uri": "https://localhost:8080/"
        },
        "id": "ZrNyx1GtjFiO",
        "outputId": "e9f7abf1-788f-4322-b133-3fd45398f53b"
      },
      "source": [
        "!gdown --id 1gUKUkb49cCVEM7YuqtMjNeVk_x8vUDBe"
      ],
      "execution_count": 2,
      "outputs": [
        {
          "output_type": "stream",
          "text": [
            "Downloading...\n",
            "From: https://drive.google.com/uc?id=1gUKUkb49cCVEM7YuqtMjNeVk_x8vUDBe\n",
            "To: /content/olist_dataset.zip\n",
            "44.8MB [00:00, 139MB/s] \n"
          ],
          "name": "stdout"
        }
      ]
    },
    {
      "cell_type": "code",
      "metadata": {
        "colab": {
          "base_uri": "https://localhost:8080/"
        },
        "id": "zLdtIEJklGKO",
        "outputId": "7411533a-dc22-40f6-9249-a094f60108d7"
      },
      "source": [
        "!mkdir data\r\n",
        "!unzip olist_dataset.zip -d data && rm olist_dataset.zip\r\n",
        "%cd data"
      ],
      "execution_count": 3,
      "outputs": [
        {
          "output_type": "stream",
          "text": [
            "mkdir: cannot create directory ‘data’: File exists\n",
            "Archive:  olist_dataset.zip\n",
            "replace data/olist_customers_dataset.csv? [y]es, [n]o, [A]ll, [N]one, [r]ename: A\n",
            "  inflating: data/olist_customers_dataset.csv  \n",
            "  inflating: data/olist_geolocation_dataset.csv  \n",
            "  inflating: data/olist_order_items_dataset.csv  \n",
            "  inflating: data/olist_order_payments_dataset.csv  \n",
            "  inflating: data/olist_order_reviews_dataset.csv  \n",
            "  inflating: data/olist_orders_dataset.csv  \n",
            "  inflating: data/olist_products_dataset.csv  \n",
            "  inflating: data/olist_sellers_dataset.csv  \n",
            "  inflating: data/product_category_name_translation.csv  \n",
            "/content/data\n"
          ],
          "name": "stdout"
        }
      ]
    },
    {
      "cell_type": "code",
      "metadata": {
        "id": "THGHxkwalzNV"
      },
      "source": [
        "customers = pd.read_csv('olist_customers_dataset.csv')\r\n",
        "order_items = pd.read_csv('olist_order_items_dataset.csv')\r\n",
        "orders = pd.read_csv('olist_orders_dataset.csv')\r\n",
        "products = pd.read_csv('olist_products_dataset.csv')\r\n",
        "sellers = pd.read_csv('olist_sellers_dataset.csv')\r\n",
        "english_categories = pd.read_csv('product_category_name_translation.csv')"
      ],
      "execution_count": 4,
      "outputs": []
    },
    {
      "cell_type": "markdown",
      "metadata": {
        "id": "X3d8WY0yjy09"
      },
      "source": [
        "## Transform\r\n"
      ]
    },
    {
      "cell_type": "markdown",
      "metadata": {
        "id": "20Zz6tDJwlV2"
      },
      "source": [
        "#### Products Table\r\n",
        "\r\n",
        "Drop rows with NaN at `product_category_name`\r\n"
      ]
    },
    {
      "cell_type": "code",
      "metadata": {
        "id": "oKhbTZ3lsS45"
      },
      "source": [
        "# Get indexes of rows with NaNs at column product_category_name\r\n",
        "idx_cat_nan = products.loc[products['product_category_name'].isnull() == True ].index\r\n",
        "\r\n",
        "# Drop rows\r\n",
        "products.drop(idx_cat_nan, inplace=True)"
      ],
      "execution_count": 5,
      "outputs": []
    },
    {
      "cell_type": "markdown",
      "metadata": {
        "id": "MWAooSvMvlSF"
      },
      "source": [
        "Translate product_category_name to english"
      ]
    },
    {
      "cell_type": "code",
      "metadata": {
        "colab": {
          "base_uri": "https://localhost:8080/",
          "height": 217
        },
        "id": "qIXDWHZSt_fU",
        "outputId": "255d6a0c-2e21-46aa-c72c-b986ff4bf4ce"
      },
      "source": [
        "products = pd.merge(products, english_categories, on='product_category_name')\r\n",
        "products['product_category_name'] = products['product_category_name_english']\r\n",
        "products.drop(['product_category_name_english'], axis=1, inplace=True)\r\n",
        "products.head()"
      ],
      "execution_count": 6,
      "outputs": [
        {
          "output_type": "execute_result",
          "data": {
            "text/html": [
              "<div>\n",
              "<style scoped>\n",
              "    .dataframe tbody tr th:only-of-type {\n",
              "        vertical-align: middle;\n",
              "    }\n",
              "\n",
              "    .dataframe tbody tr th {\n",
              "        vertical-align: top;\n",
              "    }\n",
              "\n",
              "    .dataframe thead th {\n",
              "        text-align: right;\n",
              "    }\n",
              "</style>\n",
              "<table border=\"1\" class=\"dataframe\">\n",
              "  <thead>\n",
              "    <tr style=\"text-align: right;\">\n",
              "      <th></th>\n",
              "      <th>product_id</th>\n",
              "      <th>product_category_name</th>\n",
              "      <th>product_name_lenght</th>\n",
              "      <th>product_description_lenght</th>\n",
              "      <th>product_photos_qty</th>\n",
              "      <th>product_weight_g</th>\n",
              "      <th>product_length_cm</th>\n",
              "      <th>product_height_cm</th>\n",
              "      <th>product_width_cm</th>\n",
              "    </tr>\n",
              "  </thead>\n",
              "  <tbody>\n",
              "    <tr>\n",
              "      <th>0</th>\n",
              "      <td>1e9e8ef04dbcff4541ed26657ea517e5</td>\n",
              "      <td>perfumery</td>\n",
              "      <td>40.0</td>\n",
              "      <td>287.0</td>\n",
              "      <td>1.0</td>\n",
              "      <td>225.0</td>\n",
              "      <td>16.0</td>\n",
              "      <td>10.0</td>\n",
              "      <td>14.0</td>\n",
              "    </tr>\n",
              "    <tr>\n",
              "      <th>1</th>\n",
              "      <td>6a2fb4dd53d2cdb88e0432f1284a004c</td>\n",
              "      <td>perfumery</td>\n",
              "      <td>39.0</td>\n",
              "      <td>346.0</td>\n",
              "      <td>2.0</td>\n",
              "      <td>400.0</td>\n",
              "      <td>27.0</td>\n",
              "      <td>5.0</td>\n",
              "      <td>20.0</td>\n",
              "    </tr>\n",
              "    <tr>\n",
              "      <th>2</th>\n",
              "      <td>0d009643171aee696f4733340bc2fdd0</td>\n",
              "      <td>perfumery</td>\n",
              "      <td>52.0</td>\n",
              "      <td>150.0</td>\n",
              "      <td>1.0</td>\n",
              "      <td>422.0</td>\n",
              "      <td>21.0</td>\n",
              "      <td>16.0</td>\n",
              "      <td>18.0</td>\n",
              "    </tr>\n",
              "    <tr>\n",
              "      <th>3</th>\n",
              "      <td>b1eae565a61935e0011ee7682fef9dc9</td>\n",
              "      <td>perfumery</td>\n",
              "      <td>49.0</td>\n",
              "      <td>460.0</td>\n",
              "      <td>2.0</td>\n",
              "      <td>267.0</td>\n",
              "      <td>17.0</td>\n",
              "      <td>13.0</td>\n",
              "      <td>17.0</td>\n",
              "    </tr>\n",
              "    <tr>\n",
              "      <th>4</th>\n",
              "      <td>8da90b37f0fb171b4877c124f965b1f6</td>\n",
              "      <td>perfumery</td>\n",
              "      <td>56.0</td>\n",
              "      <td>733.0</td>\n",
              "      <td>3.0</td>\n",
              "      <td>377.0</td>\n",
              "      <td>18.0</td>\n",
              "      <td>13.0</td>\n",
              "      <td>15.0</td>\n",
              "    </tr>\n",
              "  </tbody>\n",
              "</table>\n",
              "</div>"
            ],
            "text/plain": [
              "                         product_id  ... product_width_cm\n",
              "0  1e9e8ef04dbcff4541ed26657ea517e5  ...             14.0\n",
              "1  6a2fb4dd53d2cdb88e0432f1284a004c  ...             20.0\n",
              "2  0d009643171aee696f4733340bc2fdd0  ...             18.0\n",
              "3  b1eae565a61935e0011ee7682fef9dc9  ...             17.0\n",
              "4  8da90b37f0fb171b4877c124f965b1f6  ...             15.0\n",
              "\n",
              "[5 rows x 9 columns]"
            ]
          },
          "metadata": {
            "tags": []
          },
          "execution_count": 6
        }
      ]
    },
    {
      "cell_type": "markdown",
      "metadata": {
        "id": "cDg3h_ium4Ds"
      },
      "source": [
        "### Dimensionality Modeling\r\n"
      ]
    },
    {
      "cell_type": "code",
      "metadata": {
        "colab": {
          "base_uri": "https://localhost:8080/",
          "height": 197
        },
        "id": "HDXg__9Aqg9r",
        "outputId": "718c5fb3-2959-48ab-9db4-2e31e91cdbea"
      },
      "source": [
        "df = order_items.groupby(['order_id', 'product_id', 'seller_id'])['price'].agg(unit_sales='count', total_sales='sum').reset_index()\r\n",
        "df.head()"
      ],
      "execution_count": 7,
      "outputs": [
        {
          "output_type": "execute_result",
          "data": {
            "text/html": [
              "<div>\n",
              "<style scoped>\n",
              "    .dataframe tbody tr th:only-of-type {\n",
              "        vertical-align: middle;\n",
              "    }\n",
              "\n",
              "    .dataframe tbody tr th {\n",
              "        vertical-align: top;\n",
              "    }\n",
              "\n",
              "    .dataframe thead th {\n",
              "        text-align: right;\n",
              "    }\n",
              "</style>\n",
              "<table border=\"1\" class=\"dataframe\">\n",
              "  <thead>\n",
              "    <tr style=\"text-align: right;\">\n",
              "      <th></th>\n",
              "      <th>order_id</th>\n",
              "      <th>product_id</th>\n",
              "      <th>seller_id</th>\n",
              "      <th>unit_sales</th>\n",
              "      <th>total_sales</th>\n",
              "    </tr>\n",
              "  </thead>\n",
              "  <tbody>\n",
              "    <tr>\n",
              "      <th>0</th>\n",
              "      <td>00010242fe8c5a6d1ba2dd792cb16214</td>\n",
              "      <td>4244733e06e7ecb4970a6e2683c13e61</td>\n",
              "      <td>48436dade18ac8b2bce089ec2a041202</td>\n",
              "      <td>1</td>\n",
              "      <td>58.90</td>\n",
              "    </tr>\n",
              "    <tr>\n",
              "      <th>1</th>\n",
              "      <td>00018f77f2f0320c557190d7a144bdd3</td>\n",
              "      <td>e5f2d52b802189ee658865ca93d83a8f</td>\n",
              "      <td>dd7ddc04e1b6c2c614352b383efe2d36</td>\n",
              "      <td>1</td>\n",
              "      <td>239.90</td>\n",
              "    </tr>\n",
              "    <tr>\n",
              "      <th>2</th>\n",
              "      <td>000229ec398224ef6ca0657da4fc703e</td>\n",
              "      <td>c777355d18b72b67abbeef9df44fd0fd</td>\n",
              "      <td>5b51032eddd242adc84c38acab88f23d</td>\n",
              "      <td>1</td>\n",
              "      <td>199.00</td>\n",
              "    </tr>\n",
              "    <tr>\n",
              "      <th>3</th>\n",
              "      <td>00024acbcdf0a6daa1e931b038114c75</td>\n",
              "      <td>7634da152a4610f1595efa32f14722fc</td>\n",
              "      <td>9d7a1d34a5052409006425275ba1c2b4</td>\n",
              "      <td>1</td>\n",
              "      <td>12.99</td>\n",
              "    </tr>\n",
              "    <tr>\n",
              "      <th>4</th>\n",
              "      <td>00042b26cf59d7ce69dfabb4e55b4fd9</td>\n",
              "      <td>ac6c3623068f30de03045865e4e10089</td>\n",
              "      <td>df560393f3a51e74553ab94004ba5c87</td>\n",
              "      <td>1</td>\n",
              "      <td>199.90</td>\n",
              "    </tr>\n",
              "  </tbody>\n",
              "</table>\n",
              "</div>"
            ],
            "text/plain": [
              "                           order_id  ... total_sales\n",
              "0  00010242fe8c5a6d1ba2dd792cb16214  ...       58.90\n",
              "1  00018f77f2f0320c557190d7a144bdd3  ...      239.90\n",
              "2  000229ec398224ef6ca0657da4fc703e  ...      199.00\n",
              "3  00024acbcdf0a6daa1e931b038114c75  ...       12.99\n",
              "4  00042b26cf59d7ce69dfabb4e55b4fd9  ...      199.90\n",
              "\n",
              "[5 rows x 5 columns]"
            ]
          },
          "metadata": {
            "tags": []
          },
          "execution_count": 7
        }
      ]
    },
    {
      "cell_type": "code",
      "metadata": {
        "colab": {
          "base_uri": "https://localhost:8080/",
          "height": 197
        },
        "id": "_XVOTHK5sMnu",
        "outputId": "f3f22fd5-d890-4d69-e4a8-34b9f5c67657"
      },
      "source": [
        "fact = pd.merge(df, orders[['order_id', 'customer_id', 'order_approved_at']], on='order_id')\r\n",
        "fact = fact[['order_approved_at', 'order_id', 'customer_id', 'product_id', 'seller_id', 'unit_sales', 'total_sales']]\r\n",
        "fact.head()"
      ],
      "execution_count": 8,
      "outputs": [
        {
          "output_type": "execute_result",
          "data": {
            "text/html": [
              "<div>\n",
              "<style scoped>\n",
              "    .dataframe tbody tr th:only-of-type {\n",
              "        vertical-align: middle;\n",
              "    }\n",
              "\n",
              "    .dataframe tbody tr th {\n",
              "        vertical-align: top;\n",
              "    }\n",
              "\n",
              "    .dataframe thead th {\n",
              "        text-align: right;\n",
              "    }\n",
              "</style>\n",
              "<table border=\"1\" class=\"dataframe\">\n",
              "  <thead>\n",
              "    <tr style=\"text-align: right;\">\n",
              "      <th></th>\n",
              "      <th>order_approved_at</th>\n",
              "      <th>order_id</th>\n",
              "      <th>customer_id</th>\n",
              "      <th>product_id</th>\n",
              "      <th>seller_id</th>\n",
              "      <th>unit_sales</th>\n",
              "      <th>total_sales</th>\n",
              "    </tr>\n",
              "  </thead>\n",
              "  <tbody>\n",
              "    <tr>\n",
              "      <th>0</th>\n",
              "      <td>2017-09-13 09:45:35</td>\n",
              "      <td>00010242fe8c5a6d1ba2dd792cb16214</td>\n",
              "      <td>3ce436f183e68e07877b285a838db11a</td>\n",
              "      <td>4244733e06e7ecb4970a6e2683c13e61</td>\n",
              "      <td>48436dade18ac8b2bce089ec2a041202</td>\n",
              "      <td>1</td>\n",
              "      <td>58.90</td>\n",
              "    </tr>\n",
              "    <tr>\n",
              "      <th>1</th>\n",
              "      <td>2017-04-26 11:05:13</td>\n",
              "      <td>00018f77f2f0320c557190d7a144bdd3</td>\n",
              "      <td>f6dd3ec061db4e3987629fe6b26e5cce</td>\n",
              "      <td>e5f2d52b802189ee658865ca93d83a8f</td>\n",
              "      <td>dd7ddc04e1b6c2c614352b383efe2d36</td>\n",
              "      <td>1</td>\n",
              "      <td>239.90</td>\n",
              "    </tr>\n",
              "    <tr>\n",
              "      <th>2</th>\n",
              "      <td>2018-01-14 14:48:30</td>\n",
              "      <td>000229ec398224ef6ca0657da4fc703e</td>\n",
              "      <td>6489ae5e4333f3693df5ad4372dab6d3</td>\n",
              "      <td>c777355d18b72b67abbeef9df44fd0fd</td>\n",
              "      <td>5b51032eddd242adc84c38acab88f23d</td>\n",
              "      <td>1</td>\n",
              "      <td>199.00</td>\n",
              "    </tr>\n",
              "    <tr>\n",
              "      <th>3</th>\n",
              "      <td>2018-08-08 10:10:18</td>\n",
              "      <td>00024acbcdf0a6daa1e931b038114c75</td>\n",
              "      <td>d4eb9395c8c0431ee92fce09860c5a06</td>\n",
              "      <td>7634da152a4610f1595efa32f14722fc</td>\n",
              "      <td>9d7a1d34a5052409006425275ba1c2b4</td>\n",
              "      <td>1</td>\n",
              "      <td>12.99</td>\n",
              "    </tr>\n",
              "    <tr>\n",
              "      <th>4</th>\n",
              "      <td>2017-02-04 14:10:13</td>\n",
              "      <td>00042b26cf59d7ce69dfabb4e55b4fd9</td>\n",
              "      <td>58dbd0b2d70206bf40e62cd34e84d795</td>\n",
              "      <td>ac6c3623068f30de03045865e4e10089</td>\n",
              "      <td>df560393f3a51e74553ab94004ba5c87</td>\n",
              "      <td>1</td>\n",
              "      <td>199.90</td>\n",
              "    </tr>\n",
              "  </tbody>\n",
              "</table>\n",
              "</div>"
            ],
            "text/plain": [
              "     order_approved_at  ... total_sales\n",
              "0  2017-09-13 09:45:35  ...       58.90\n",
              "1  2017-04-26 11:05:13  ...      239.90\n",
              "2  2018-01-14 14:48:30  ...      199.00\n",
              "3  2018-08-08 10:10:18  ...       12.99\n",
              "4  2017-02-04 14:10:13  ...      199.90\n",
              "\n",
              "[5 rows x 7 columns]"
            ]
          },
          "metadata": {
            "tags": []
          },
          "execution_count": 8
        }
      ]
    },
    {
      "cell_type": "markdown",
      "metadata": {
        "id": "pFqW6DUqmTFr"
      },
      "source": [
        "## Load\r\n",
        "\r\n",
        "Export to csv (will be loaded to MySQL later)"
      ]
    },
    {
      "cell_type": "code",
      "metadata": {
        "id": "EwH0OFK0mUP0"
      },
      "source": [
        "products.to_csv('products_transformed.csv', index=False)\r\n",
        "fact.to_csv('fact.csv', index=False)"
      ],
      "execution_count": 9,
      "outputs": []
    },
    {
      "cell_type": "code",
      "metadata": {
        "id": "mdtbXCk8nxyh",
        "colab": {
          "base_uri": "https://localhost:8080/"
        },
        "outputId": "ce5f96f7-c580-42cb-d223-20f83a51ced0"
      },
      "source": [
        "# Save data directory to google drive\r\n",
        "%cd ..\r\n",
        "!cp -r data \"/content/drive/My Drive/advdb datawarehouse\""
      ],
      "execution_count": 10,
      "outputs": [
        {
          "output_type": "stream",
          "text": [
            "cp: cannot stat 'data': No such file or directory\n"
          ],
          "name": "stdout"
        }
      ]
    }
  ]
}